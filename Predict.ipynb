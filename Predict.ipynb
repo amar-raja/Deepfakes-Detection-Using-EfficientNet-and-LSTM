{
 "cells": [
  {
   "cell_type": "code",
   "execution_count": 1,
   "metadata": {
    "colab": {},
    "colab_type": "code",
    "id": "ddyQ8HE8zeYj"
   },
   "outputs": [],
   "source": [
    "#before running this please change the RUNTIME to GPU (Runtime -> Change runtime type -> set harware accelarotor as GPU)\n",
    "#Mount our google drive\n",
    "# from google.colab import drive\n",
    "# drive.mount('/content/drive')"
   ]
  },
  {
   "cell_type": "code",
   "execution_count": 2,
   "metadata": {
    "colab": {},
    "colab_type": "code",
    "id": "3vj15Vde0Gxs"
   },
   "outputs": [],
   "source": [
    "#import libraries\n",
    "# !pip3 install face_recognition"
   ]
  },
  {
   "cell_type": "code",
   "execution_count": 3,
   "metadata": {
    "colab": {},
    "colab_type": "code",
    "id": "3vj15Vde0Gxs"
   },
   "outputs": [],
   "source": [
    "import torch\n",
    "import torchvision\n",
    "from torchvision import transforms\n",
    "from torch.utils.data import DataLoader\n",
    "from torch.utils.data.dataset import Dataset\n",
    "import os\n",
    "import numpy as np\n",
    "import cv2\n",
    "import matplotlib.pyplot as plt\n",
    "import face_recognition"
   ]
  },
  {
   "cell_type": "code",
   "execution_count": 4,
   "metadata": {
    "colab": {},
    "colab_type": "code",
    "id": "C3r-9rMc1DmO"
   },
   "outputs": [],
   "source": [
    "#import libraries\n",
    "import torch\n",
    "from torch.autograd import Variable\n",
    "import time\n",
    "import os\n",
    "import sys\n",
    "import os\n",
    "from torch import nn\n",
    "from torchvision import models"
   ]
  },
  {
   "cell_type": "code",
   "execution_count": 5,
   "metadata": {},
   "outputs": [],
   "source": [
    "# from torch import nn\n",
    "import torch.nn.functional as F\n",
    "import timm"
   ]
  },
  {
   "cell_type": "code",
   "execution_count": 6,
   "metadata": {
    "colab": {},
    "colab_type": "code",
    "id": "g1G0IoVy2Pc7"
   },
   "outputs": [],
   "source": [
    "#Model with feature visualization\n",
    "from torch import nn\n",
    "from torchvision import models\n",
    "class Model(nn.Module):\n",
    "#     def __init__(self, num_classes,latent_dim= 2048, lstm_layers=1 , hidden_dim = 2048, bidirectional = False):\n",
    "    def __init__(self, num_classes,latent_dim= 1280, lstm_layers=2 , hidden_dim = 2048, bidirectional = True):\n",
    "        super(Model, self).__init__()\n",
    "#         model = models.resnext50_32x4d(pretrained = True)\n",
    "        model_name_ef = \"tf_efficientnet_b0_ns\"\n",
    "        model = timm.create_model(model_name_ef,pretrained=True)  #load pretrained model\n",
    "#         print(model)\n",
    "        self.model = nn.Sequential(*list(model.children())[:-2])\n",
    "        self.lstm = nn.LSTM(latent_dim,hidden_dim, lstm_layers,  bidirectional)\n",
    "        self.relu = nn.LeakyReLU()\n",
    "        self.dp = nn.Dropout(0.4)\n",
    "        self.linear1 = nn.Linear(hidden_dim,num_classes)\n",
    "        self.avgpool = nn.AdaptiveAvgPool2d(1)\n",
    "    def forward(self, x):\n",
    "        batch_size,seq_length, c, h, w = x.shape\n",
    "        x = x.view(batch_size * seq_length, c, h, w)\n",
    "        fmap = self.model(x)\n",
    "        x = self.avgpool(fmap)\n",
    "#         x = x.view(batch_size,seq_length,2048)\n",
    "        x = x.view(batch_size,seq_length,1280)\n",
    "        x_lstm,_ = self.lstm(x,None)\n",
    "#         return fmap,self.dp(self.linear1(x_lstm[:,-1,:]))\n",
    "        return fmap,self.dp(self.linear1(torch.mean(x_lstm,dim = 1)))"
   ]
  },
  {
   "cell_type": "code",
   "execution_count": 7,
   "metadata": {
    "colab": {},
    "colab_type": "code",
    "id": "avpp16KLze7T"
   },
   "outputs": [],
   "source": [
    "im_size = 224 #240 #112\n",
    "mean=[0.485, 0.456, 0.406]\n",
    "std=[0.229, 0.224, 0.225]\n",
    "sm = nn.Softmax()\n",
    "inv_normalize =  transforms.Normalize(mean=-1*np.divide(mean,std),std=np.divide([1,1,1],std))\n",
    "def im_convert(tensor):\n",
    "    \"\"\" Display a tensor as an image. \"\"\"\n",
    "    image = tensor.to(\"cpu\").clone().detach()\n",
    "    image = image.squeeze()\n",
    "    image = inv_normalize(image)\n",
    "    image = image.numpy()\n",
    "    image = image.transpose(1,2,0)\n",
    "    image = image.clip(0, 1)\n",
    "    cv2.imwrite('./2.png',image*255)\n",
    "    return image\n",
    "\n",
    "def predict(model,img,path = './'):\n",
    "  fmap,logits = model(img.to('cuda'))\n",
    "  params = list(model.parameters())\n",
    "  weight_softmax = model.linear1.weight.detach().cpu().numpy()\n",
    "  logits = sm(logits)\n",
    "  _,prediction = torch.max(logits,1)\n",
    "  confidence = logits[:,int(prediction.item())].item()*100\n",
    "  print('confidence of prediction:',logits[:,int(prediction.item())].item()*100)\n",
    "#   idx = np.argmax(logits.detach().cpu().numpy())\n",
    "#   bz, nc, h, w = fmap.shape\n",
    "#   out = np.dot(fmap[-1].detach().cpu().numpy().reshape((nc, h*w)).T,weight_softmax[idx,:].T)\n",
    "#   predict = out.reshape(h,w)\n",
    "#   predict = predict - np.min(predict)\n",
    "#   predict_img = predict / np.max(predict)\n",
    "#   predict_img = np.uint8(255*predict_img)\n",
    "#   out = cv2.resize(predict_img, (im_size,im_size))\n",
    "#   heatmap = cv2.applyColorMap(out, cv2.COLORMAP_JET)\n",
    "#   img = im_convert(img[:,-1,:,:,:])\n",
    "#   result = heatmap * 0.5 + img*0.8*255\n",
    "#   cv2.imwrite('/content/1.png',result)\n",
    "#   result1 = heatmap * 0.5/255 + img*0.8\n",
    "#   r,g,b = cv2.split(result1)\n",
    "#   result1 = cv2.merge((r,g,b))\n",
    "#   plt.imshow(result1)\n",
    "#   plt.show()\n",
    "  return [int(prediction.item()),confidence]\n",
    "#img = train_data[100][0].unsqueeze(0)\n",
    "#predict(model,img)"
   ]
  },
  {
   "cell_type": "code",
   "execution_count": 8,
   "metadata": {
    "colab": {},
    "colab_type": "code",
    "id": "asSbpP8fzlFj"
   },
   "outputs": [],
   "source": [
    "#!pip3 install face_recognition\n",
    "import torch\n",
    "import torchvision\n",
    "from torchvision import transforms\n",
    "from torch.utils.data import DataLoader\n",
    "from torch.utils.data.dataset import Dataset\n",
    "import os\n",
    "import numpy as np\n",
    "import cv2\n",
    "import matplotlib.pyplot as plt\n",
    "import face_recognition\n",
    "class validation_dataset(Dataset):\n",
    "    def __init__(self,video_names,sequence_length = 60,transform = None):\n",
    "        self.video_names = video_names\n",
    "        self.transform = transform\n",
    "        self.count = sequence_length\n",
    "    def __len__(self):\n",
    "        return len(self.video_names)\n",
    "    def __getitem__(self,idx):\n",
    "        video_path = self.video_names[idx]\n",
    "        frames = []\n",
    "        a = int(100/self.count)\n",
    "        first_frame = np.random.randint(0,a)      \n",
    "        for i,frame in enumerate(self.frame_extract(video_path)):\n",
    "            #if(i % a == first_frame):\n",
    "            faces = face_recognition.face_locations(frame)\n",
    "            try:\n",
    "              top,right,bottom,left = faces[0]\n",
    "              frame = frame[top:bottom,left:right,:]\n",
    "            except:\n",
    "              pass\n",
    "            frames.append(self.transform(frame))\n",
    "            if(len(frames) == self.count):\n",
    "              break\n",
    "        print(\"no of frames\",len(frames))\n",
    "        frames = torch.stack(frames)\n",
    "        frames = frames[:self.count]\n",
    "        return frames.unsqueeze(0)\n",
    "    def frame_extract(self,path):\n",
    "      vidObj = cv2.VideoCapture(path) \n",
    "      success = 1\n",
    "      while success:\n",
    "          success, image = vidObj.read()\n",
    "          if success:\n",
    "              yield image\n",
    "def im_plot(tensor):\n",
    "    image = tensor.cpu().numpy().transpose(1,2,0)\n",
    "    b,g,r = cv2.split(image)\n",
    "    image = cv2.merge((r,g,b))\n",
    "    image = image*[0.22803, 0.22145, 0.216989] +  [0.43216, 0.394666, 0.37645]\n",
    "    image = image*255.0\n",
    "    plt.imshow(image.astype(int))\n",
    "    plt.show()"
   ]
  },
  {
   "cell_type": "code",
   "execution_count": 9,
   "metadata": {
    "colab": {},
    "colab_type": "code",
    "id": "J8YkC-vwzrkE"
   },
   "outputs": [
    {
     "name": "stdout",
     "output_type": "stream",
     "text": [
      "DFDC_REAL_Face_only_data-20220608T111310Z-001/DFDC_REAL_Face_only_data/aabqyygbaa.mp4\n",
      "no of frames 10\n",
      "confidence of prediction: 96.91188931465149\n",
      "REAL\n"
     ]
    },
    {
     "name": "stderr",
     "output_type": "stream",
     "text": [
      "/tmp/ipykernel_6064/3783167566.py:21: UserWarning: Implicit dimension choice for softmax has been deprecated. Change the call to include dim=X as an argument.\n",
      "  logits = sm(logits)\n"
     ]
    }
   ],
   "source": [
    "#Code for making prediction\n",
    "im_size = 224 #240#112\n",
    "mean=[0.485, 0.456, 0.406]\n",
    "std=[0.229, 0.224, 0.225]\n",
    "\n",
    "train_transforms = transforms.Compose([\n",
    "                                        transforms.ToPILImage(),\n",
    "                                        transforms.Resize((im_size,im_size)),\n",
    "                                        transforms.ToTensor(),\n",
    "                                        transforms.Normalize(mean,std)])\n",
    "# path_to_videos = ['/content/drive/My Drive/Balanced_Face_only_data/aagfhgtpmv.mp4',\n",
    "#                                    '/content/drive/My Drive/Balanced_Face_only_data/aczrgyricp.mp4',\n",
    "#                                    '/content/drive/My Drive/Balanced_Face_only_data/agdkmztvby.mp4',\n",
    "#                                    '/content/drive/My Drive/Balanced_Face_only_data/abarnvbtwb.mp4']\n",
    "\n",
    "# path_to_videos = ['/content/drive/My Drive/Youtube_Face_only_data/000_003.mp4',\n",
    "#                   '/content/drive/My Drive/Youtube_Face_only_data/000.mp4',\n",
    "#                   '/content/drive/My Drive/Youtube_Face_only_data/002_006.mp4',\n",
    "#                   '/content/drive/My Drive/Youtube_Face_only_data/002.mp4'\n",
    "                  \n",
    "\n",
    "# ]\n",
    "\n",
    "# path_to_videos= [\"/content/drive/My Drive/DFDC_REAL_Face_only_data/aabqyygbaa.mp4\"]\n",
    "\n",
    "#byme\n",
    "# path_to_videos= [\"DFDC_FAKE_Face_only_data-20220608T105537Z-001/DFDC_FAKE_Face_only_data/aaagqkcdis.mp4\"]\n",
    "path_to_videos= [\"DFDC_REAL_Face_only_data-20220608T111310Z-001/DFDC_REAL_Face_only_data/aabqyygbaa.mp4\"]\n",
    "\n",
    "video_dataset = validation_dataset(path_to_videos,sequence_length = 10,transform = train_transforms)\n",
    "# print(len(video_dataset))\n",
    "model = Model(2).cuda()\n",
    "# path_to_model = '/content/drive/My Drive/Models/model_87_acc_20_frames_final_data.pt'\n",
    "path_to_model = 'model_87_acc_10_frames_final_data.pt'\n",
    "\n",
    "model.load_state_dict(torch.load(path_to_model))\n",
    "model.eval()\n",
    "for i in range(0,len(path_to_videos)):\n",
    "  print(path_to_videos[i])\n",
    "  prediction = predict(model,video_dataset[i],'./')\n",
    "  if prediction[0] == 1:\n",
    "    print(\"REAL\")\n",
    "  else:\n",
    "    print(\"FAKE\")"
   ]
  },
  {
   "cell_type": "code",
   "execution_count": 10,
   "metadata": {
    "colab": {},
    "colab_type": "code",
    "id": "YYV2DyoqBWJu"
   },
   "outputs": [],
   "source": [
    "# #Optional : If you want to pass full frame for prediction instead of face cropped frame\n",
    "# #code for full frame processing\n",
    "# class validation_dataset(Dataset):\n",
    "#     def __init__(self,video_names,sequence_length = 60,transform = None):\n",
    "#         self.video_names = video_names\n",
    "#         self.transform = transform\n",
    "#         self.count = sequence_length\n",
    "#     def __len__(self):\n",
    "#         return len(self.video_names)\n",
    "#     def __getitem__(self,idx):\n",
    "#         video_path = self.video_names[idx]\n",
    "#         frames = []\n",
    "#         a = int(100/self.count)\n",
    "#         first_frame = np.random.randint(0,a) \n",
    "#         for i,frame in enumerate(self.frame_extract(video_path)):\n",
    "#           frames.append(self.transform(frame))\n",
    "#           if(len(frames) == self.count):\n",
    "#             break\n",
    "#         frames = torch.stack(frames)\n",
    "#         frames = frames[:self.count]\n",
    "#         return frames.unsqueeze(0)\n",
    "#     def frame_extract(self,path):\n",
    "#       vidObj = cv2.VideoCapture(path) \n",
    "#       success = 1\n",
    "#       while success:\n",
    "#           success, image = vidObj.read()\n",
    "#           if success:\n",
    "#               yield image"
   ]
  },
  {
   "cell_type": "code",
   "execution_count": null,
   "metadata": {},
   "outputs": [],
   "source": []
  }
 ],
 "metadata": {
  "accelerator": "GPU",
  "colab": {
   "collapsed_sections": [],
   "name": "Predict.ipynb",
   "provenance": []
  },
  "kernelspec": {
   "display_name": "Python 3 (ipykernel)",
   "language": "python",
   "name": "python3"
  },
  "language_info": {
   "codemirror_mode": {
    "name": "ipython",
    "version": 3
   },
   "file_extension": ".py",
   "mimetype": "text/x-python",
   "name": "python",
   "nbconvert_exporter": "python",
   "pygments_lexer": "ipython3",
   "version": "3.9.7"
  }
 },
 "nbformat": 4,
 "nbformat_minor": 1
}
